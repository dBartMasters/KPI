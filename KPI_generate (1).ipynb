{
 "cells": [
  {
   "cell_type": "code",
   "execution_count": 1,
   "id": "75acc96d-234f-49dd-be61-17b053112553",
   "metadata": {},
   "outputs": [],
   "source": [
    "import numpy as np\n",
    "import datetime as dt\n",
    "import logging\n",
    "import seaborn as sns\n",
    "import matplotlib.pyplot as plt\n",
    "from import_sql import *"
   ]
  },
  {
   "cell_type": "markdown",
   "id": "83b2a1f2",
   "metadata": {},
   "source": [
    "## Run Parameters"
   ]
  },
  {
   "cell_type": "code",
   "execution_count": 2,
   "id": "ccc1691a",
   "metadata": {},
   "outputs": [],
   "source": [
    "recreate_base_tables=False\n",
    "#rolling window\n",
    "n=6\n",
    "# params to group by\n",
    "dims=['ACCOUNT_CLASS',\n",
    "        'FIRST_PRODUCT_CATEGORY',\n",
    "        # 'PS_INDICATOR',\n",
    "        'COHORT_YM',\n",
    "        'COUNTRY'\n",
    "]"
   ]
  },
  {
   "cell_type": "code",
   "execution_count": 3,
   "id": "bc324156",
   "metadata": {},
   "outputs": [],
   "source": [
    "if recreate_base_tables:\n",
    "    # create table of fees from MP. SQL from Temma\n",
    "    create_sf_table(create_kpi_mp_fee_text)\n",
    "    # create table of KPI base, no summarization\n",
    "    create_sf_table(create_kpi_base_text)\n",
    "    # create dimension table for ease of joins\n",
    "    ## don't need if analyzing in pandas\n",
    "    create_sf_table(create_kpi_dim_text)"
   ]
  },
  {
   "cell_type": "code",
   "execution_count": 4,
   "id": "e88cc157",
   "metadata": {},
   "outputs": [],
   "source": [
    "# print(create_kpi_base_text)"
   ]
  },
  {
   "cell_type": "code",
   "execution_count": 5,
   "id": "26ad8ff1",
   "metadata": {},
   "outputs": [
    {
     "name": "stdout",
     "output_type": "stream",
     "text": [
      "Table Fetched\n"
     ]
    }
   ],
   "source": [
    "# get the data at a month, account class, product, cohort year, country level\n",
    "kpi_b = get_sf_data('SELECT * FROM PROD_ANALYTICS.PRODUCT_ANALYTICS.KPI_BASE')\n",
    "kpi_b['ACTIVITY_DATE'] = pd.to_datetime(kpi_b['ACTIVITY_DATE'])\n",
    "kpi_b['FIRST_CLOSEDATE'] = pd.to_datetime(kpi_b['FIRST_CLOSEDATE'])"
   ]
  },
  {
   "cell_type": "markdown",
   "id": "868b7b2b",
   "metadata": {},
   "source": [
    "---\n",
    "## Account Rollups"
   ]
  },
  {
   "cell_type": "code",
   "execution_count": 6,
   "id": "92d59605",
   "metadata": {},
   "outputs": [],
   "source": [
    "# Resample to monthly frequency and mark each user as active\n",
    "monthly_active = kpi_b.groupby(by=['ACCOUNTID']+dims).resample('MS', on='ACTIVITY_DATE').size().unstack(fill_value=0)\n",
    "monthly_active = (monthly_active > 0).astype(int)  # Mark the user as active (1) or not (0) for each month"
   ]
  },
  {
   "cell_type": "markdown",
   "id": "4bc8df79",
   "metadata": {},
   "source": [
    "## Retained Accounts"
   ]
  },
  {
   "cell_type": "code",
   "execution_count": 7,
   "id": "5bae3474",
   "metadata": {},
   "outputs": [],
   "source": [
    "# Calculate rolling 12-month activity window, excluding the current month\n",
    "## Have to transpose and back to using rolling across colums.\n",
    "## Max makes it one or zero, instead of summing\n",
    "monthly_rollup = monthly_active.T.rolling(window=n+1, min_periods=1).max().shift(0).T #do we want the shift here? exclude current month?\n",
    "# get a yearly rollup for visualizations\n",
    "yearly_rollup = monthly_rollup.T.resample('YS').max().T"
   ]
  },
  {
   "cell_type": "code",
   "execution_count": 8,
   "id": "bc4040f0",
   "metadata": {},
   "outputs": [
    {
     "name": "stdout",
     "output_type": "stream",
     "text": [
      "1\n",
      "7.0\n"
     ]
    }
   ],
   "source": [
    "## test the rolling window assumption. If n=6, then we cover 7 months. n=12, rolls to 13 months\n",
    "print(monthly_active.iloc[20,:].sum())\n",
    "print(monthly_rollup.iloc[20,:].sum())"
   ]
  },
  {
   "cell_type": "code",
   "execution_count": 9,
   "id": "d8a72749",
   "metadata": {},
   "outputs": [],
   "source": [
    "x=monthly_rollup.groupby(by=dims).sum().T\n",
    "retained=x.melt(ignore_index=False, value_name='RETAINED_ACCOUNTS')\n",
    "retained['RETAINED_ACCOUNTS']=retained.RETAINED_ACCOUNTS.astype(int)\n",
    "del x"
   ]
  },
  {
   "cell_type": "markdown",
   "id": "6f4a8c39",
   "metadata": {},
   "source": [
    "## Churned Accounts"
   ]
  },
  {
   "cell_type": "code",
   "execution_count": 10,
   "id": "0850fbb6",
   "metadata": {},
   "outputs": [],
   "source": [
    "churned_users=monthly_rollup.apply(\n",
    "    lambda x: [1 if x[col] == 0 and x.shift(periods=1,axis=0)[col]==1 else 0 for col in monthly_rollup.columns], axis=1)\n",
    "monthly_churn=pd.DataFrame(churned_users.to_list(), index=monthly_rollup.index, columns=monthly_rollup.columns)"
   ]
  },
  {
   "cell_type": "code",
   "execution_count": 11,
   "id": "84ecb03b",
   "metadata": {},
   "outputs": [],
   "source": [
    "x=monthly_churn.groupby(by=dims).sum().T\n",
    "churned=x.melt(ignore_index=False, value_name='CHURNED_ACCOUNTS')\n",
    "del x"
   ]
  },
  {
   "cell_type": "markdown",
   "id": "0f7d2f05",
   "metadata": {},
   "source": [
    "## New Accounts"
   ]
  },
  {
   "cell_type": "code",
   "execution_count": 12,
   "id": "61fe472a",
   "metadata": {},
   "outputs": [],
   "source": [
    "# take monthly active, and make =1 if it's the first occurence of activity\n",
    "new_users=monthly_active.apply(\n",
    "    lambda x: [1 if x[col]==1 and col==x.idxmax() else 0 for col in monthly_active.columns], axis=1)\n",
    "# make a dataframe with same dimensions as monthly rollup\n",
    "monthly_new=pd.DataFrame(new_users.to_list(), index=monthly_active.index, columns=monthly_active.columns)"
   ]
  },
  {
   "cell_type": "code",
   "execution_count": 13,
   "id": "14b029a5",
   "metadata": {},
   "outputs": [],
   "source": [
    "x=monthly_new.groupby(by=dims).sum().T\n",
    "new=x.melt(ignore_index=False, value_name='NEW_ACCOUNTS')\n",
    "del x"
   ]
  },
  {
   "cell_type": "code",
   "execution_count": 14,
   "id": "02679b75",
   "metadata": {},
   "outputs": [],
   "source": [
    "new['NEW_ACCOUNTS_ROLLING']=new.NEW_ACCOUNTS.rolling(window=n, min_periods=1).sum().astype(int)"
   ]
  },
  {
   "cell_type": "markdown",
   "id": "127428d4",
   "metadata": {},
   "source": [
    "### Combine Them"
   ]
  },
  {
   "cell_type": "code",
   "execution_count": 15,
   "id": "14d0e551",
   "metadata": {},
   "outputs": [],
   "source": [
    "qout=retained.merge(\n",
    "    churned, on=['ACTIVITY_DATE']+dims, how='left'\n",
    "    ).merge(\n",
    "        new, on=['ACTIVITY_DATE']+dims, how='left')\n",
    "# qout.info()"
   ]
  },
  {
   "cell_type": "code",
   "execution_count": 16,
   "id": "c9794850",
   "metadata": {},
   "outputs": [],
   "source": [
    "qout['RETAINED ACCOUNTS (ROLLING WINDOW, NO NEW)']=qout.RETAINED_ACCOUNTS - qout.NEW_ACCOUNTS"
   ]
  },
  {
   "cell_type": "markdown",
   "id": "2e31b6c2",
   "metadata": {},
   "source": [
    "---\n",
    "## GMV"
   ]
  },
  {
   "cell_type": "code",
   "execution_count": 17,
   "id": "e6c0896f",
   "metadata": {},
   "outputs": [],
   "source": [
    "## Get GMV by index \n",
    "gmv_s=kpi_b.groupby(by=['ACCOUNTID']+dims).GMV.sum().fillna(0.00)"
   ]
  },
  {
   "cell_type": "markdown",
   "id": "7f7abbff",
   "metadata": {},
   "source": [
    "### Active"
   ]
  },
  {
   "cell_type": "code",
   "execution_count": 18,
   "id": "14280c6a",
   "metadata": {},
   "outputs": [],
   "source": [
    "# Monthly rollup will have a '1' for each month that is considered active. This will replace these 1s with the value of the index's GMV\n",
    "gmv_active_df=monthly_rollup.multiply(gmv_s, axis=0)\n",
    "# sum across accounts\n",
    "x=gmv_active_df.groupby(by=dims).sum().T\n",
    "# melt and calculate retained GMV\n",
    "retained_gmv=x.melt(ignore_index=False, value_name='RETAINED_GMV')\n",
    "del x\n",
    "# retained_gmv.head()"
   ]
  },
  {
   "cell_type": "markdown",
   "id": "e8e309de",
   "metadata": {},
   "source": [
    "### New"
   ]
  },
  {
   "cell_type": "code",
   "execution_count": 19,
   "id": "6833a5e7",
   "metadata": {},
   "outputs": [],
   "source": [
    "# Monthly rollup will have a '1' for each month that is considered active. This will replace these 1s with the value of the index's GMV\n",
    "gmv_new_df=monthly_new.multiply(gmv_s, axis=0)\n",
    "# sum across accounts\n",
    "x=gmv_new_df.groupby(by=dims).sum().T\n",
    "# melt and calculate retained GMV\n",
    "new_gmv=x.melt(ignore_index=False, value_name='NEW_GMV')\n",
    "del x\n",
    "# new_gmv.head()"
   ]
  },
  {
   "cell_type": "markdown",
   "id": "7ddb68a8",
   "metadata": {},
   "source": [
    "### Churned"
   ]
  },
  {
   "cell_type": "code",
   "execution_count": 20,
   "id": "f481965b",
   "metadata": {},
   "outputs": [],
   "source": [
    "# Monthly rollup will have a '1' for each month that is considered active. This will replace these 1s with the value of the index's GMV\n",
    "gmv_churn_df=monthly_churn.multiply(gmv_s, axis=0)\n",
    "# sum across accounts\n",
    "x=gmv_churn_df.groupby(by=dims).sum().T\n",
    "# melt and calculate retained GMV\n",
    "churn_gmv=x.melt(ignore_index=False, value_name='CHURNED_GMV')\n",
    "del x\n",
    "# churn_gmv.head()"
   ]
  },
  {
   "cell_type": "markdown",
   "id": "8a84045e",
   "metadata": {},
   "source": [
    "### Combine them"
   ]
  },
  {
   "cell_type": "code",
   "execution_count": 21,
   "id": "b4794846",
   "metadata": {},
   "outputs": [],
   "source": [
    "## GMV\n",
    "### Combine Them\n",
    "gmv_out=retained_gmv.merge(\n",
    "    churn_gmv, on=['ACTIVITY_DATE']+dims, how='left'\n",
    "    ).merge(\n",
    "        new_gmv, on=['ACTIVITY_DATE']+dims, how='left')\n",
    "gmv_out['RETAINED GMV (NO NEW)']=gmv_out.RETAINED_GMV - gmv_out.NEW_GMV"
   ]
  },
  {
   "cell_type": "markdown",
   "id": "d18d532a",
   "metadata": {},
   "source": [
    "---\n",
    "## Revenue"
   ]
  },
  {
   "cell_type": "code",
   "execution_count": 22,
   "id": "ae4c6640",
   "metadata": {},
   "outputs": [],
   "source": [
    "## Get GMV by index \n",
    "rev_s=kpi_b.groupby(by=['ACCOUNTID']+dims).REVENUE.sum().fillna(0.00)"
   ]
  },
  {
   "cell_type": "markdown",
   "id": "3d976ca2",
   "metadata": {},
   "source": [
    "### Active"
   ]
  },
  {
   "cell_type": "code",
   "execution_count": 23,
   "id": "3986d7ff",
   "metadata": {},
   "outputs": [],
   "source": [
    "# Monthly rollup will have a '1' for each month that is considered active. This will replace these 1s with the value of the index's GMV\n",
    "rev_active_df=monthly_rollup.multiply(rev_s, axis=0)\n",
    "# sum across accounts\n",
    "x=rev_active_df.groupby(by=dims).sum().T\n",
    "# melt and calculate retained GMV\n",
    "retained_rev=x.melt(ignore_index=False, value_name='RETAINED_REV')\n",
    "del x"
   ]
  },
  {
   "cell_type": "markdown",
   "id": "23740d75",
   "metadata": {},
   "source": [
    "### New"
   ]
  },
  {
   "cell_type": "code",
   "execution_count": 24,
   "id": "098e9f1d",
   "metadata": {},
   "outputs": [],
   "source": [
    "# Monthly rollup will have a '1' for each month that is considered active. This will replace these 1s with the value of the index's GMV\n",
    "rev_new_df=monthly_new.multiply(rev_s, axis=0)\n",
    "# sum across accounts\n",
    "x=rev_new_df.groupby(by=dims).sum().T\n",
    "# melt and calculate retained GMV\n",
    "new_rev=x.melt(ignore_index=False, value_name='NEW_REV')\n",
    "del x"
   ]
  },
  {
   "cell_type": "markdown",
   "id": "ed751524",
   "metadata": {},
   "source": [
    "### Churned"
   ]
  },
  {
   "cell_type": "code",
   "execution_count": 25,
   "id": "19303dd3",
   "metadata": {},
   "outputs": [],
   "source": [
    "# Monthly rollup will have a '1' for each month that is considered active. This will replace these 1s with the value of the index's GMV\n",
    "rev_churn_df=monthly_churn.multiply(rev_s, axis=0)\n",
    "# sum across accounts\n",
    "x=rev_churn_df.groupby(by=dims).sum().T\n",
    "# melt and calculate retained GMV\n",
    "churn_rev=x.melt(ignore_index=False, value_name='CHURNED_REV')\n",
    "del x"
   ]
  },
  {
   "cell_type": "markdown",
   "id": "c721374a",
   "metadata": {},
   "source": [
    "### Combine them"
   ]
  },
  {
   "cell_type": "code",
   "execution_count": 26,
   "id": "088f5ee6",
   "metadata": {},
   "outputs": [],
   "source": [
    "## REV\n",
    "### Combine Them\n",
    "rev_out=retained_rev.merge(\n",
    "    churn_rev, on=['ACTIVITY_DATE']+dims, how='left'\n",
    "    ).merge(\n",
    "        new_rev, on=['ACTIVITY_DATE']+dims, how='left')\n",
    "rev_out['RETAINED REV (NO NEW)']=rev_out.RETAINED_REV - rev_out.NEW_REV"
   ]
  },
  {
   "cell_type": "code",
   "execution_count": 27,
   "id": "9442a9de",
   "metadata": {},
   "outputs": [],
   "source": [
    "new_churn_query_v2=qout.merge(\n",
    "    gmv_out, on = ['ACTIVITY_DATE']+dims, how = 'left').merge(\n",
    "        rev_out, on = ['ACTIVITY_DATE']+dims, how = 'left')"
   ]
  },
  {
   "cell_type": "markdown",
   "id": "d1c45a70",
   "metadata": {},
   "source": [
    "---\n",
    "## Outputs"
   ]
  },
  {
   "cell_type": "code",
   "execution_count": 28,
   "id": "0bf4b0e1",
   "metadata": {},
   "outputs": [],
   "source": [
    "## overall summarize query\n",
    "new_churn_query_v2.to_csv('NEW_CHURN_QUERY_V2.csv', index=True)"
   ]
  },
  {
   "cell_type": "code",
   "execution_count": 29,
   "id": "0df063aa",
   "metadata": {},
   "outputs": [],
   "source": [
    "## could just export yearly rollup for these?\n",
    "\n",
    "## yearly by size\n",
    "retained_ys=export_by_dim(\n",
    "    yearly_rollup, gb_dims=dims[0], value_name='RETAINED_ACCOUNTS', out_name='CLOSEYR-SIZE-V2.csv')\n",
    "## yearly by product\n",
    "retained_yp=export_by_dim(\n",
    "    yearly_rollup, gb_dims=dims[1], value_name='RETAINED_ACCOUNTS', out_name='CLOSEYR-PRODUCT-V2.csv')\n",
    "## yearly by cohort\n",
    "retained_y = export_by_dim(\n",
    "    yearly_rollup, gb_dims=dims[2], value_name='RETAINED_ACCOUNTS', out_name='CLOSEYR-COHORT-V2.csv')\n",
    "## yearly by country\n",
    "retained_c=export_by_dim(\n",
    "    yearly_rollup, gb_dims=dims[3], value_name='RETAINED_ACCOUNTS', out_name='CLOSEYR-GEO-V2.csv')"
   ]
  },
  {
   "cell_type": "code",
   "execution_count": 30,
   "id": "2f2023b7",
   "metadata": {},
   "outputs": [],
   "source": [
    "# sample rows of trading only\n",
    "to_accounts=kpi_b[kpi_b['FIRST_PRODUCT_CATEGORY']=='TRADING ONLY'].ACCOUNTID.unique()\n",
    "to_accounts_sample=np.random.choice(to_accounts,3)\n",
    "kpi_b[kpi_b.ACCOUNTID.isin(to_accounts_sample)].sort_values(by='ACCOUNTID').to_csv('trading_only_examples.csv', index=False)"
   ]
  },
  {
   "cell_type": "code",
   "execution_count": 31,
   "id": "16992024",
   "metadata": {},
   "outputs": [],
   "source": [
    "## Count by unique product+account, not just one product per account\n",
    "# Resample to monthly frequency and mark each user as active\n",
    "monthly_active_pl = kpi_b.groupby(by=['ACCOUNTID','PRODUCT_LABEL_CATEGORY']).resample('MS', on='ACTIVITY_DATE').size().unstack(fill_value=0)\n",
    "monthly_active_pl = (monthly_active_pl > 0).astype(int)  # Mark the user as active (1) or not (0) for each month\n",
    "# Calculate rolling 12-month activity window, excluding the current month\n",
    "## Have to transpose and back to using rolling across colums.\n",
    "## Max makes it one or zero, instead of summing\n",
    "monthly_rollup_pl = monthly_active_pl.T.rolling(window=n+1, min_periods=1).max().shift(0).T #do we want the shift here? exclude current month?\n",
    "# get a yearly rollup for visualizations\n",
    "yearly_rollup_pl = monthly_rollup_pl.T.resample('YS').max().T\n",
    "\n",
    "x=yearly_rollup_pl.groupby(by='PRODUCT_LABEL_CATEGORY').sum().T\n",
    "y=x.melt(ignore_index=False, value_name='RETAINED_ACCOUNTS')\n",
    "y['RETAINED_ACCOUNTS']=y['RETAINED_ACCOUNTS'].astype(int)\n",
    "y.to_csv('CLOSEYR-ALLPRODUCT-V2.csv', index=True)\n",
    "y.head()\n",
    "del x,y"
   ]
  },
  {
   "cell_type": "code",
   "execution_count": 32,
   "id": "ab795c64",
   "metadata": {},
   "outputs": [],
   "source": [
    "## CLOSEYR-NUMPRODUCTS\n",
    "numprod=kpi_b.groupby(by=['ACCOUNTID','CLOSED_YEAR']).PRODUCT_LABEL.nunique()\n",
    "numprod.to_csv('CLOSEYR-NUMPRODUCTS.csv', index=True)"
   ]
  },
  {
   "cell_type": "code",
   "execution_count": 33,
   "id": "6ed0facc",
   "metadata": {},
   "outputs": [
    {
     "name": "stdout",
     "output_type": "stream",
     "text": [
      "['FIRST_PRODUCT_CATEGORY', 'COHORT_YM']\n"
     ]
    }
   ],
   "source": [
    "print(dims[1:3])"
   ]
  },
  {
   "cell_type": "code",
   "execution_count": 34,
   "id": "adf3574e",
   "metadata": {},
   "outputs": [],
   "source": [
    "# ## yearly by PS Indicator\n",
    "# ## \n",
    "# #****must have run with appropriate dims above: ['ACCOUNT_CLASS', 'PS_INDICATOR', 'COHORT_YM', 'COUNTRY'] to produce proper yearly rollup\n",
    "# print(dims[1:3])\n",
    "# retained_yps = export_by_dim(\n",
    "#     yearly_rollup, gb_dims=dims[1:3], value_name='RETAINED_ACCOUNTS', out_name='CLOSEYR-PS_IND-V2.csv'\n",
    "# )"
   ]
  },
  {
   "cell_type": "markdown",
   "id": "a6d7abde",
   "metadata": {},
   "source": [
    "## Plotting"
   ]
  },
  {
   "cell_type": "code",
   "execution_count": 35,
   "id": "2eb7c0ea",
   "metadata": {},
   "outputs": [
    {
     "name": "stdout",
     "output_type": "stream",
     "text": [
      "<class 'pandas.core.frame.DataFrame'>\n",
      "DatetimeIndex: 106 entries, 2015-08-01 to 2024-05-01\n",
      "Data columns (total 3 columns):\n",
      " #   Column                                      Non-Null Count  Dtype  \n",
      "---  ------                                      --------------  -----  \n",
      " 0   RETAINED ACCOUNTS (ROLLING WINDOW, NO NEW)  106 non-null    int64  \n",
      " 1   CHURNED_ACCOUNTS                            106 non-null    int64  \n",
      " 2   Churn Rate                                  105 non-null    float64\n",
      "dtypes: float64(1), int64(2)\n",
      "memory usage: 3.3 KB\n"
     ]
    }
   ],
   "source": [
    "bar_df=new_churn_query_v2.groupby(by='ACTIVITY_DATE').agg({\n",
    "    'RETAINED ACCOUNTS (ROLLING WINDOW, NO NEW)':'sum',\n",
    "    'CHURNED_ACCOUNTS':'sum'\n",
    "})\n",
    "bar_df['Churn Rate'] = bar_df['CHURNED_ACCOUNTS']/bar_df['RETAINED ACCOUNTS (ROLLING WINDOW, NO NEW)']\n",
    "bar_df.info()"
   ]
  },
  {
   "cell_type": "code",
   "execution_count": 36,
   "id": "42120bf4",
   "metadata": {},
   "outputs": [
    {
     "data": {
      "image/png": "[encoded data removed]",
      "text/plain": [
       "<Figure size 1000x600 with 2 Axes>"
      ]
     },
     "metadata": {},
     "output_type": "display_data"
    }
   ],
   "source": [
    "# Create figure and axis for the bar chart\n",
    "fig, ax1 = plt.subplots(figsize=(10, 6))\n",
    "# Plot each segment\n",
    "plt.bar(bar_df.index, bar_df['RETAINED ACCOUNTS (ROLLING WINDOW, NO NEW)'], color='skyblue', label='Retained Accounts (No New)', width=15, snap=False)\n",
    "plt.bar(bar_df.index, bar_df['CHURNED_ACCOUNTS'], bottom=bar_df['RETAINED ACCOUNTS (ROLLING WINDOW, NO NEW)'], color='orange', label='Churned Accounts', width=15, snap=False)\n",
    "\n",
    "ax1.set_xlabel('Date')\n",
    "ax1.set_ylabel('Accounts', color='black')\n",
    "ax1.tick_params(axis='y', labelcolor='black')\n",
    "ax1.set_xlim(pd.to_datetime('2021-01-01',format='%Y-%m-%d'))\n",
    "\n",
    "# Create a second y-axis for the line plot\n",
    "ax2 = ax1.twinx()\n",
    "# Overlay a line plot\n",
    "sns.lineplot(data=bar_df['Churn Rate'], markers=True, dashes=False, color='red', linewidth=2.5, label='Churn Rate')\n",
    "\n",
    "ax2.set_ylabel('Churn Rate', color='red')\n",
    "ax2.tick_params(axis='y', labelcolor='red')\n",
    "ax2.set_ylim(0,0.25)\n",
    "\n",
    "# Add legend and title\n",
    "fig.tight_layout()\n",
    "fig.legend(loc='upper left', bbox_to_anchor=(0.1, 0.25))\n",
    "# plt.title('Churn Rate with '+ n.astype(str) +' rolling window')\n",
    "\n",
    "plt.show()"
   ]
  },
  {
   "cell_type": "code",
   "execution_count": null,
   "id": "8dfca9ff",
   "metadata": {},
   "outputs": [],
   "source": []
  }
 ],
 "metadata": {
  "kernelspec": {
   "display_name": "Python 3 (ipykernel)",
   "language": "python",
   "name": "python3"
  },
  "language_info": {
   "codemirror_mode": {
    "name": "ipython",
    "version": 3
   },
   "file_extension": ".py",
   "mimetype": "text/x-python",
   "name": "python",
   "nbconvert_exporter": "python",
   "pygments_lexer": "ipython3",
   "version": "3.10.13"
  }
 },
 "nbformat": 4,
 "nbformat_minor": 5
}
