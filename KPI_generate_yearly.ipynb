{
 "cells": [
  {
   "cell_type": "code",
   "execution_count": 1,
   "id": "75acc96d-234f-49dd-be61-17b053112553",
   "metadata": {},
   "outputs": [],
   "source": [
    "import numpy as np\n",
    "import datetime as dt\n",
    "import logging\n",
    "import seaborn as sns\n",
    "import matplotlib.pyplot as plt\n",
    "from import_sql import *"
   ]
  },
  {
   "cell_type": "markdown",
   "id": "83b2a1f2",
   "metadata": {},
   "source": [
    "## Run Parameters"
   ]
  },
  {
   "cell_type": "code",
   "execution_count": 2,
   "id": "ccc1691a",
   "metadata": {},
   "outputs": [],
   "source": [
    "recreate_base_tables=False\n",
    "#rolling window\n",
    "n=6\n",
    "# params to group by\n",
    "dims=['ACCOUNT_CLASS',\n",
    "        'FIRST_PRODUCT_CATEGORY',\n",
    "        # 'PS_INDICATOR',\n",
    "        'COHORT_YM',\n",
    "        'COUNTRY'\n",
    "]"
   ]
  },
  {
   "cell_type": "code",
   "execution_count": 3,
   "id": "bc324156",
   "metadata": {},
   "outputs": [],
   "source": [
    "if recreate_base_tables:\n",
    "    # create table of fees from MP. SQL from Temma\n",
    "    create_sf_table(create_kpi_mp_fee_text)\n",
    "    # create table of KPI base, no summarization\n",
    "    create_sf_table(create_kpi_base_text)\n",
    "    # create dimension table for ease of joins\n",
    "    ## don't need if analyzing in pandas\n",
    "    create_sf_table(create_kpi_dim_text)"
   ]
  },
  {
   "cell_type": "code",
   "execution_count": 4,
   "id": "26ad8ff1",
   "metadata": {},
   "outputs": [
    {
     "name": "stdout",
     "output_type": "stream",
     "text": [
      "Table Fetched\n"
     ]
    }
   ],
   "source": [
    "# get the data at a month, account class, product, cohort year, country level\n",
    "kpi_b = get_sf_data('SELECT * FROM PROD_ANALYTICS.PRODUCT_ANALYTICS.KPI_BASE')\n",
    "kpi_b['ACTIVITY_DATE'] = pd.to_datetime(kpi_b['ACTIVITY_DATE'])\n",
    "kpi_b['FIRST_CLOSEDATE'] = pd.to_datetime(kpi_b['FIRST_CLOSEDATE'])"
   ]
  },
  {
   "cell_type": "markdown",
   "id": "868b7b2b",
   "metadata": {},
   "source": [
    "---\n",
    "## Account Rollups"
   ]
  },
  {
   "cell_type": "code",
   "execution_count": 5,
   "id": "92d59605",
   "metadata": {},
   "outputs": [],
   "source": [
    "# Resample to monthly frequency and mark each user as active\n",
    "monthly_active = kpi_b.groupby(by=['ACCOUNTID']+dims).resample('MS', on='ACTIVITY_DATE').size().unstack(fill_value=0)\n",
    "monthly_active = (monthly_active > 0).astype(int)  # Mark the user as active (1) or not (0) for each month"
   ]
  },
  {
   "cell_type": "markdown",
   "id": "4bc8df79",
   "metadata": {},
   "source": [
    "## Retained Accounts"
   ]
  },
  {
   "cell_type": "code",
   "execution_count": 6,
   "id": "5bae3474",
   "metadata": {},
   "outputs": [],
   "source": [
    "# Calculate rolling 12-month activity window, excluding the current month\n",
    "## Have to transpose and back to using rolling across colums.\n",
    "## Max makes it one or zero, instead of summing\n",
    "monthly_rollup = monthly_active.T.rolling(window=n+1, min_periods=1).max().shift(0).T #do we want the shift here? exclude current month?\n",
    "# get a yearly rollup for visualizations\n",
    "yearly_rollup = monthly_rollup.T.resample('YS').max().T"
   ]
  },
  {
   "cell_type": "code",
   "execution_count": 7,
   "id": "d8a72749",
   "metadata": {},
   "outputs": [],
   "source": [
    "x=yearly_rollup.groupby(by=dims).sum().T\n",
    "retained=x.melt(ignore_index=False, value_name='RETAINED_ACCOUNTS')\n",
    "retained['RETAINED_ACCOUNTS']=retained.RETAINED_ACCOUNTS.astype(int)\n",
    "del x"
   ]
  },
  {
   "cell_type": "markdown",
   "id": "6f4a8c39",
   "metadata": {},
   "source": [
    "## Churned Accounts"
   ]
  },
  {
   "cell_type": "code",
   "execution_count": 8,
   "id": "0850fbb6",
   "metadata": {},
   "outputs": [],
   "source": [
    "churned_users=yearly_rollup.apply(\n",
    "    lambda x: [1 if x[col] == 0 and x.shift(periods=1,axis=0)[col]==1 else 0 for col in yearly_rollup.columns], axis=1)\n",
    "yearly_churn=pd.DataFrame(churned_users.to_list(), index=yearly_rollup.index, columns=yearly_rollup.columns)"
   ]
  },
  {
   "cell_type": "code",
   "execution_count": 9,
   "id": "84ecb03b",
   "metadata": {},
   "outputs": [],
   "source": [
    "x=yearly_churn.groupby(by=dims).sum().T\n",
    "churned=x.melt(ignore_index=False, value_name='CHURNED_ACCOUNTS')\n",
    "del x"
   ]
  },
  {
   "cell_type": "markdown",
   "id": "0f7d2f05",
   "metadata": {},
   "source": [
    "## New Accounts"
   ]
  },
  {
   "cell_type": "code",
   "execution_count": 10,
   "id": "61fe472a",
   "metadata": {},
   "outputs": [],
   "source": [
    "# take monthly active, and make =1 if it's the first occurence of activity\n",
    "new_users=yearly_rollup.apply(\n",
    "    lambda x: [1 if x[col]==1 and col==x.idxmax() else 0 for col in yearly_rollup.columns], axis=1)\n",
    "# make a dataframe with same dimensions as monthly rollup\n",
    "yearly_new=pd.DataFrame(new_users.to_list(), index=yearly_rollup.index, columns=yearly_rollup.columns)"
   ]
  },
  {
   "cell_type": "code",
   "execution_count": 11,
   "id": "14b029a5",
   "metadata": {},
   "outputs": [],
   "source": [
    "x=yearly_new.groupby(by=dims).sum().T\n",
    "new=x.melt(ignore_index=False, value_name='NEW_ACCOUNTS')\n",
    "del x"
   ]
  },
  {
   "cell_type": "code",
   "execution_count": 12,
   "id": "02679b75",
   "metadata": {},
   "outputs": [],
   "source": [
    "# new['NEW_ACCOUNTS_ROLLING']=new.NEW_ACCOUNTS.rolling(window=n, min_periods=1).sum().astype(int)"
   ]
  },
  {
   "cell_type": "markdown",
   "id": "127428d4",
   "metadata": {},
   "source": [
    "### Combine Them"
   ]
  },
  {
   "cell_type": "code",
   "execution_count": 13,
   "id": "14d0e551",
   "metadata": {},
   "outputs": [],
   "source": [
    "qout=retained.merge(\n",
    "    churned, on=['ACTIVITY_DATE']+dims, how='left'\n",
    "    ).merge(\n",
    "        new, on=['ACTIVITY_DATE']+dims, how='left')\n",
    "# qout.info()"
   ]
  },
  {
   "cell_type": "code",
   "execution_count": 14,
   "id": "c9794850",
   "metadata": {},
   "outputs": [],
   "source": [
    "qout['RETAINED ACCOUNTS (ROLLING WINDOW, NO NEW)']=qout.RETAINED_ACCOUNTS - qout.NEW_ACCOUNTS"
   ]
  },
  {
   "cell_type": "code",
   "execution_count": 15,
   "id": "d834df79",
   "metadata": {},
   "outputs": [
    {
     "name": "stdout",
     "output_type": "stream",
     "text": [
      "<class 'pandas.core.frame.DataFrame'>\n",
      "DatetimeIndex: 4430 entries, 2015-01-01 to 2024-01-01\n",
      "Data columns (total 8 columns):\n",
      " #   Column                                      Non-Null Count  Dtype \n",
      "---  ------                                      --------------  ----- \n",
      " 0   ACCOUNT_CLASS                               4430 non-null   object\n",
      " 1   FIRST_PRODUCT_CATEGORY                      4430 non-null   object\n",
      " 2   COHORT_YM                                   4430 non-null   object\n",
      " 3   COUNTRY                                     4430 non-null   object\n",
      " 4   RETAINED_ACCOUNTS                           4430 non-null   int64 \n",
      " 5   CHURNED_ACCOUNTS                            4430 non-null   int64 \n",
      " 6   NEW_ACCOUNTS                                4430 non-null   int64 \n",
      " 7   RETAINED ACCOUNTS (ROLLING WINDOW, NO NEW)  4430 non-null   int64 \n",
      "dtypes: int64(4), object(4)\n",
      "memory usage: 311.5+ KB\n"
     ]
    }
   ],
   "source": [
    "qout.info()"
   ]
  },
  {
   "cell_type": "markdown",
   "id": "2e31b6c2",
   "metadata": {},
   "source": [
    "---\n",
    "## GMV"
   ]
  },
  {
   "cell_type": "code",
   "execution_count": 16,
   "id": "e6c0896f",
   "metadata": {},
   "outputs": [],
   "source": [
    "## Get GMV by index \n",
    "gmv_s=kpi_b.groupby(by=['ACCOUNTID']+dims).GMV.sum().fillna(0.00)"
   ]
  },
  {
   "cell_type": "markdown",
   "id": "7f7abbff",
   "metadata": {},
   "source": [
    "### Active"
   ]
  },
  {
   "cell_type": "code",
   "execution_count": 17,
   "id": "14280c6a",
   "metadata": {},
   "outputs": [],
   "source": [
    "# Monthly rollup will have a '1' for each month that is considered active. This will replace these 1s with the value of the index's GMV\n",
    "gmv_active_df=yearly_rollup.multiply(gmv_s, axis=0)\n",
    "# sum across accounts\n",
    "x=gmv_active_df.groupby(by=dims).sum().T\n",
    "# melt and calculate retained GMV\n",
    "retained_gmv=x.melt(ignore_index=False, value_name='RETAINED_GMV')\n",
    "del x\n",
    "# retained_gmv.head()"
   ]
  },
  {
   "cell_type": "markdown",
   "id": "e8e309de",
   "metadata": {},
   "source": [
    "### New"
   ]
  },
  {
   "cell_type": "code",
   "execution_count": 18,
   "id": "6833a5e7",
   "metadata": {},
   "outputs": [],
   "source": [
    "# Monthly rollup will have a '1' for each month that is considered active. This will replace these 1s with the value of the index's GMV\n",
    "gmv_new_df=yearly_new.multiply(gmv_s, axis=0)\n",
    "# sum across accounts\n",
    "x=gmv_new_df.groupby(by=dims).sum().T\n",
    "# melt and calculate retained GMV\n",
    "new_gmv=x.melt(ignore_index=False, value_name='NEW_GMV')\n",
    "del x\n",
    "# new_gmv.head()"
   ]
  },
  {
   "cell_type": "markdown",
   "id": "7ddb68a8",
   "metadata": {},
   "source": [
    "### Churned"
   ]
  },
  {
   "cell_type": "code",
   "execution_count": 19,
   "id": "f481965b",
   "metadata": {},
   "outputs": [],
   "source": [
    "# Monthly rollup will have a '1' for each month that is considered active. This will replace these 1s with the value of the index's GMV\n",
    "gmv_churn_df=yearly_churn.multiply(gmv_s, axis=0)\n",
    "# sum across accounts\n",
    "x=gmv_churn_df.groupby(by=dims).sum().T\n",
    "# melt and calculate retained GMV\n",
    "churn_gmv=x.melt(ignore_index=False, value_name='CHURNED_GMV')\n",
    "del x\n",
    "# churn_gmv.head()"
   ]
  },
  {
   "cell_type": "markdown",
   "id": "8a84045e",
   "metadata": {},
   "source": [
    "### Combine them"
   ]
  },
  {
   "cell_type": "code",
   "execution_count": 20,
   "id": "b4794846",
   "metadata": {},
   "outputs": [],
   "source": [
    "## GMV\n",
    "### Combine Them\n",
    "gmv_out=retained_gmv.merge(\n",
    "    churn_gmv, on=['ACTIVITY_DATE']+dims, how='left'\n",
    "    ).merge(\n",
    "        new_gmv, on=['ACTIVITY_DATE']+dims, how='left')\n",
    "gmv_out['RETAINED GMV (NO NEW)']=gmv_out.RETAINED_GMV - gmv_out.NEW_GMV"
   ]
  },
  {
   "cell_type": "code",
   "execution_count": 21,
   "id": "415a8d20",
   "metadata": {},
   "outputs": [
    {
     "name": "stdout",
     "output_type": "stream",
     "text": [
      "<class 'pandas.core.frame.DataFrame'>\n",
      "DatetimeIndex: 4430 entries, 2015-01-01 to 2024-01-01\n",
      "Data columns (total 8 columns):\n",
      " #   Column                  Non-Null Count  Dtype  \n",
      "---  ------                  --------------  -----  \n",
      " 0   ACCOUNT_CLASS           4430 non-null   object \n",
      " 1   FIRST_PRODUCT_CATEGORY  4430 non-null   object \n",
      " 2   COHORT_YM               4430 non-null   object \n",
      " 3   COUNTRY                 4430 non-null   object \n",
      " 4   RETAINED_GMV            4430 non-null   float64\n",
      " 5   CHURNED_GMV             4430 non-null   float64\n",
      " 6   NEW_GMV                 4430 non-null   float64\n",
      " 7   RETAINED GMV (NO NEW)   4430 non-null   float64\n",
      "dtypes: float64(4), object(4)\n",
      "memory usage: 311.5+ KB\n"
     ]
    }
   ],
   "source": [
    "gmv_out.info()"
   ]
  },
  {
   "cell_type": "markdown",
   "id": "d18d532a",
   "metadata": {},
   "source": [
    "---\n",
    "## Revenue"
   ]
  },
  {
   "cell_type": "code",
   "execution_count": 22,
   "id": "ae4c6640",
   "metadata": {},
   "outputs": [],
   "source": [
    "## Get GMV by index \n",
    "rev_s=kpi_b.groupby(by=['ACCOUNTID']+dims).REVENUE.sum().fillna(0.00)"
   ]
  },
  {
   "cell_type": "markdown",
   "id": "3d976ca2",
   "metadata": {},
   "source": [
    "### Active"
   ]
  },
  {
   "cell_type": "code",
   "execution_count": 23,
   "id": "3986d7ff",
   "metadata": {},
   "outputs": [],
   "source": [
    "# Monthly rollup will have a '1' for each month that is considered active. This will replace these 1s with the value of the index's GMV\n",
    "rev_active_df=yearly_rollup.multiply(rev_s, axis=0)\n",
    "# sum across accounts\n",
    "x=rev_active_df.groupby(by=dims).sum().T\n",
    "# melt and calculate retained GMV\n",
    "retained_rev=x.melt(ignore_index=False, value_name='RETAINED_REV')\n",
    "del x"
   ]
  },
  {
   "cell_type": "markdown",
   "id": "23740d75",
   "metadata": {},
   "source": [
    "### New"
   ]
  },
  {
   "cell_type": "code",
   "execution_count": 24,
   "id": "098e9f1d",
   "metadata": {},
   "outputs": [],
   "source": [
    "# Monthly rollup will have a '1' for each month that is considered active. This will replace these 1s with the value of the index's GMV\n",
    "rev_new_df=yearly_new.multiply(rev_s, axis=0)\n",
    "# sum across accounts\n",
    "x=rev_new_df.groupby(by=dims).sum().T\n",
    "# melt and calculate retained GMV\n",
    "new_rev=x.melt(ignore_index=False, value_name='NEW_REV')\n",
    "del x"
   ]
  },
  {
   "cell_type": "markdown",
   "id": "ed751524",
   "metadata": {},
   "source": [
    "### Churned"
   ]
  },
  {
   "cell_type": "code",
   "execution_count": 25,
   "id": "19303dd3",
   "metadata": {},
   "outputs": [],
   "source": [
    "# Monthly rollup will have a '1' for each month that is considered active. This will replace these 1s with the value of the index's GMV\n",
    "rev_churn_df=yearly_churn.multiply(rev_s, axis=0)\n",
    "# sum across accounts\n",
    "x=rev_churn_df.groupby(by=dims).sum().T\n",
    "# melt and calculate retained GMV\n",
    "churn_rev=x.melt(ignore_index=False, value_name='CHURNED_REV')\n",
    "del x"
   ]
  },
  {
   "cell_type": "markdown",
   "id": "c721374a",
   "metadata": {},
   "source": [
    "### Combine them"
   ]
  },
  {
   "cell_type": "code",
   "execution_count": 26,
   "id": "088f5ee6",
   "metadata": {},
   "outputs": [],
   "source": [
    "## REV\n",
    "### Combine Them\n",
    "rev_out=retained_rev.merge(\n",
    "    churn_rev, on=['ACTIVITY_DATE']+dims, how='left'\n",
    "    ).merge(\n",
    "        new_rev, on=['ACTIVITY_DATE']+dims, how='left')\n",
    "rev_out['RETAINED REV (NO NEW)']=rev_out.RETAINED_REV - rev_out.NEW_REV"
   ]
  },
  {
   "cell_type": "code",
   "execution_count": 27,
   "id": "9442a9de",
   "metadata": {},
   "outputs": [],
   "source": [
    "new_churn_query_v2=qout.merge(\n",
    "    gmv_out, on = ['ACTIVITY_DATE']+dims, how = 'left').merge(\n",
    "        rev_out, on = ['ACTIVITY_DATE']+dims, how = 'left')"
   ]
  },
  {
   "cell_type": "markdown",
   "id": "d1c45a70",
   "metadata": {},
   "source": [
    "---\n",
    "## Outputs"
   ]
  },
  {
   "cell_type": "code",
   "execution_count": 28,
   "id": "0bf4b0e1",
   "metadata": {},
   "outputs": [],
   "source": [
    "## overall summarize query\n",
    "new_churn_query_v2.to_csv('NEW_CHURN_QUERY_YEARLY_V2.csv', index=True)"
   ]
  },
  {
   "cell_type": "code",
   "execution_count": 29,
   "id": "8c6aa0a3",
   "metadata": {},
   "outputs": [],
   "source": [
    "retained_y_gmv = export_by_dim(\n",
    "    gmv_active_df, gb_dims=dims[2], value_name='RETAINED_GMV', out_name='nulltemp.csv')\n",
    "retained_y_rev = export_by_dim(\n",
    "    rev_active_df, gb_dims=dims[2], value_name='RETAINED_REV', out_name='nulltemp.csv')\n",
    "retained_y = export_by_dim(\n",
    "    yearly_rollup, gb_dims=dims[2], value_name='RETAINED_ACCOUNTS', out_name='nulltemp.csv')"
   ]
  },
  {
   "cell_type": "code",
   "execution_count": 30,
   "id": "1dad2426",
   "metadata": {},
   "outputs": [],
   "source": [
    "retained=retained_y.merge(\n",
    "    retained_y_rev, on = ['ACTIVITY_DATE',dims[2]], how = 'left').merge(\n",
    "        retained_y_gmv, on = ['ACTIVITY_DATE',dims[2]], how = 'left')\n",
    "\n",
    "retained.head()\n",
    "retained.to_csv('CLOSEYR_YM_ALL-V2.csv',index=True)"
   ]
  },
  {
   "cell_type": "code",
   "execution_count": null,
   "id": "d11590f3",
   "metadata": {},
   "outputs": [],
   "source": []
  }
 ],
 "metadata": {
  "kernelspec": {
   "display_name": "Python 3 (ipykernel)",
   "language": "python",
   "name": "python3"
  },
  "language_info": {
   "codemirror_mode": {
    "name": "ipython",
    "version": 3
   },
   "file_extension": ".py",
   "mimetype": "text/x-python",
   "name": "python",
   "nbconvert_exporter": "python",
   "pygments_lexer": "ipython3",
   "version": "3.10.13"
  }
 },
 "nbformat": 4,
 "nbformat_minor": 5
}
